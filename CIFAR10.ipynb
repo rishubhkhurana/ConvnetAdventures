{
 "cells": [
  {
   "cell_type": "markdown",
   "metadata": {},
   "source": [
    "## Convnet Adventures "
   ]
  },
  {
   "cell_type": "markdown",
   "metadata": {},
   "source": [
    "### Importing Libraries"
   ]
  },
  {
   "cell_type": "code",
   "execution_count": 1,
   "metadata": {},
   "outputs": [],
   "source": [
    "import torch\n",
    "import torch.nn as nn\n",
    "import torch.nn.functional as F\n",
    "import numpy as np\n",
    "import pandas as pd\n",
    "import matplotlib.pyplot as plt\n",
    "import seaborn as sns\n",
    "from pathlib import Path\n",
    "import gzip\n",
    "#import cPickle\n",
    "import pickle as pkl\n",
    "import os,re\n",
    "from torch.nn.init import kaiming_normal_,kaiming_uniform_\n",
    "from functools import partial\n",
    "import math,pdb"
   ]
  },
  {
   "cell_type": "markdown",
   "metadata": {},
   "source": [
    "### Reading Data "
   ]
  },
  {
   "cell_type": "code",
   "execution_count": 3,
   "metadata": {},
   "outputs": [],
   "source": [
    "datapath = Path('data/cifar-10-batches-py')"
   ]
  },
  {
   "cell_type": "code",
   "execution_count": 4,
   "metadata": {},
   "outputs": [
    {
     "name": "stdout",
     "output_type": "stream",
     "text": [
      "batches.meta  data_batch_2  data_batch_4  readme.html\n",
      "data_batch_1  data_batch_3  data_batch_5  test_batch\n"
     ]
    }
   ],
   "source": [
    "!ls {datapath}"
   ]
  },
  {
   "cell_type": "code",
   "execution_count": 4,
   "metadata": {},
   "outputs": [],
   "source": [
    "#with gzip.open(datapath/'cifar-10-python.tar.gz','rb') as f:\n",
    "#    pass"
   ]
  },
  {
   "cell_type": "code",
   "execution_count": 5,
   "metadata": {},
   "outputs": [],
   "source": [
    "#with gzip.open(datapath/'cifar-10-python.tar.gz','rb') as f:\n",
    "#    data = pkl.load(f,encoding='latin')"
   ]
  },
  {
   "cell_type": "code",
   "execution_count": 5,
   "metadata": {},
   "outputs": [],
   "source": [
    "fnames=list(datapath.iterdir())"
   ]
  },
  {
   "cell_type": "code",
   "execution_count": 6,
   "metadata": {},
   "outputs": [
    {
     "name": "stdout",
     "output_type": "stream",
     "text": [
      "data/cifar-10-batches-py/data_batch_1\n"
     ]
    }
   ],
   "source": [
    "!ls {datapath/'data_batch_1/'}"
   ]
  },
  {
   "cell_type": "code",
   "execution_count": 7,
   "metadata": {},
   "outputs": [],
   "source": [
    "def load_file(file):\n",
    "    with open(file,'rb') as f:\n",
    "        data = pkl.load(f,encoding='bytes')\n",
    "    return data[b'data'],data[b'labels']"
   ]
  },
  {
   "cell_type": "code",
   "execution_count": 8,
   "metadata": {},
   "outputs": [],
   "source": [
    "x,y=load_file(datapath/'data_batch_1')"
   ]
  },
  {
   "cell_type": "code",
   "execution_count": 9,
   "metadata": {},
   "outputs": [],
   "source": [
    "trn_data=[]\n",
    "trn_y=[]\n",
    "for f in fnames:\n",
    "    if re.search(r'data_',str(f)):\n",
    "        x,y = load_file(f)\n",
    "        trn_data.append(x)\n",
    "        trn_y.append(y)\n",
    "        "
   ]
  },
  {
   "cell_type": "code",
   "execution_count": 13,
   "metadata": {},
   "outputs": [],
   "source": [
    "trn_data = np.vstack(trn_data)\n",
    "trn_y = np.concatenate(trn_y)"
   ]
  },
  {
   "cell_type": "code",
   "execution_count": 12,
   "metadata": {},
   "outputs": [
    {
     "data": {
      "text/plain": [
       "((50000, 3072), (50000,))"
      ]
     },
     "execution_count": 12,
     "metadata": {},
     "output_type": "execute_result"
    }
   ],
   "source": [
    "trn_data.shape,trn_y.shape"
   ]
  },
  {
   "cell_type": "code",
   "execution_count": 15,
   "metadata": {},
   "outputs": [],
   "source": [
    "def show_img(arr,axs=None):\n",
    "    if axs is None:\n",
    "        fig,axs =plt.subplots(figsize=(8,4))\n",
    "    axs.imshow(arr.reshape(3,32,32).transpose(1,2,0))    \n",
    "    axs.set_xticks([])\n",
    "    axs.set_yticks([])\n",
    "    return axs"
   ]
  },
  {
   "cell_type": "code",
   "execution_count": 16,
   "metadata": {},
   "outputs": [
    {
     "data": {
      "image/png": "[encoded data removed]",
      "text/plain": [
       "<Figure size 576x288 with 1 Axes>"
      ]
     },
     "metadata": {},
     "output_type": "display_data"
    }
   ],
   "source": [
    "_=show_img(trn_data[1])\n"
   ]
  },
  {
   "cell_type": "markdown",
   "metadata": {},
   "source": [
    "### Dataset and Dataloader Definition "
   ]
  },
  {
   "cell_type": "code",
   "execution_count": 17,
   "metadata": {},
   "outputs": [],
   "source": [
    "class Dataset:\n",
    "    def __init__(self,x,y):\n",
    "        self.x,self.y=x,y\n",
    "        if not isinstance(self.x,torch.Tensor):\n",
    "            self.x= torch.tensor(x,dtype=torch.float32)\n",
    "            self.y=torch.tensor(y)\n",
    "    def __getitem__(self,idx):\n",
    "        return self.x[idx],self.y[idx]\n",
    "    def __len__(self):\n",
    "        return len(self.x)"
   ]
  },
  {
   "cell_type": "code",
   "execution_count": 52,
   "metadata": {},
   "outputs": [],
   "source": [
    "class Sampler:\n",
    "    def __init__(self,ds,bs,shuffle=True):\n",
    "        self.ds,self.bs,self.shuffle=ds,bs,shuffle\n",
    "    def __len__(self):\n",
    "        return len(self.ds)\n",
    "    def __iter__(self):\n",
    "        if self.shuffle:\n",
    "            idxs=torch.randperm(len(self))\n",
    "        else:\n",
    "            idxs=torch.arange(len(self))\n",
    "        for i in range(0,len(self),self.bs):\n",
    "            yield idxs[i:i+self.bs]"
   ]
  },
  {
   "cell_type": "code",
   "execution_count": 53,
   "metadata": {},
   "outputs": [],
   "source": [
    "def collate_fn(xy):\n",
    "    x,y=zip(*xy)\n",
    "    return torch.stack(x),torch.stack(y)\n",
    "class DataLoader:\n",
    "    def __init__(self,sampler,ds,collate_fn=collate_fn):\n",
    "        self.sampler,self.ds,self.collate_fn=sampler,ds,collate_fn\n",
    "    def __iter__(self):\n",
    "        for idxs in self.sampler:\n",
    "            yield self.collate_fn([self.ds[i] for i in idxs]) \n",
    "    def __len__(self):\n",
    "        return len(self.sampler)"
   ]
  },
  {
   "cell_type": "markdown",
   "metadata": {},
   "source": [
    "### Splitting Data\n",
    "20% to validation set"
   ]
  },
  {
   "cell_type": "code",
   "execution_count": 54,
   "metadata": {},
   "outputs": [],
   "source": [
    "n=len(trn_data)\n",
    "idxs = np.arange(n)\n",
    "np.random.shuffle(idxs)\n",
    "prop=0.2\n",
    "val_bound = int(0.2*n)\n",
    "x_train,y_train = trn_data[:-val_bound],trn_y[:-val_bound]\n",
    "x_valid,y_valid = trn_data[-val_bound:],trn_y[-val_bound:]\n"
   ]
  },
  {
   "cell_type": "markdown",
   "metadata": {},
   "source": [
    "### Dataset Initialization"
   ]
  },
  {
   "cell_type": "code",
   "execution_count": 55,
   "metadata": {},
   "outputs": [],
   "source": [
    "trn_ds = Dataset(x_train,y_train)\n",
    "val_ds = Dataset(x_valid,y_valid)\n",
    "tsmplr = Sampler(trn_ds,bs=128)\n",
    "vsmplr = Sampler(val_ds,bs=256,shuffle=False)\n",
    "trn_dl = DataLoader(tsmplr,trn_ds,collate_fn)\n",
    "val_dl = DataLoader(vsmplr,val_ds,collate_fn)"
   ]
  },
  {
   "cell_type": "markdown",
   "metadata": {},
   "source": [
    "## Model Building"
   ]
  },
  {
   "cell_type": "code",
   "execution_count": 25,
   "metadata": {},
   "outputs": [],
   "source": [
    "class NNModel(nn.Module):\n",
    "    def __init__(self,ni,no,nhs=[128,128]):\n",
    "        super().__init__()\n",
    "        self.lyrs = nn.ModuleList()\n",
    "        for i,h in enumerate(nhs[:-1]):\n",
    "            if i==0:\n",
    "                self.lyrs.append(nn.Linear(ni,h))\n",
    "            else:\n",
    "                self.lyrs.append(nn.Linear(h,nhs[i+1]))\n",
    "        self.lyrs.append(nn.Linear(nhs[-1],no))\n",
    "    def forward(self,x):\n",
    "        for l in self.lyrs[:-1]:\n",
    "            x=F.relu(l(x))\n",
    "        x=self.lyrs[-1](x)\n",
    "        return x\n",
    "        "
   ]
  },
  {
   "cell_type": "code",
   "execution_count": 26,
   "metadata": {},
   "outputs": [],
   "source": [
    "nc=trn_y.max().item()+1\n",
    "mymod = NNModel(trn_data.shape[1],nc)"
   ]
  },
  {
   "cell_type": "code",
   "execution_count": 27,
   "metadata": {},
   "outputs": [],
   "source": [
    "class ConvLayer:\n",
    "    pass\n",
    "class ResBlock:\n",
    "    pass\n",
    "class ConvModel:\n",
    "    pass"
   ]
  },
  {
   "cell_type": "markdown",
   "metadata": {},
   "source": [
    "## Training Loop "
   ]
  },
  {
   "cell_type": "code",
   "execution_count": 28,
   "metadata": {},
   "outputs": [],
   "source": [
    "def scheduler(f):\n",
    "    def _inner(start,stop):\n",
    "        return partial(f,start,stop)\n",
    "    return _inner\n",
    "@scheduler\n",
    "def sched_lin(start,stop,pos):\n",
    "    return start + pos*(stop-start)\n",
    "@scheduler\n",
    "def sched_cos(start,stop,pos):\n",
    "    return (start+stop)/2 + (start-stop)/2*(math.cos(math.pi*pos))"
   ]
  },
  {
   "cell_type": "code",
   "execution_count": 25,
   "metadata": {},
   "outputs": [
    {
     "data": {
      "image/png": "[encoded data removed]",
      "text/plain": [
       "<Figure size 432x288 with 1 Axes>"
      ]
     },
     "metadata": {
      "needs_background": "light"
     },
     "output_type": "display_data"
    }
   ],
   "source": [
    "f=sched_cos(0.3,0.8)\n",
    "pos = np.linspace(0,1,100)\n",
    "evals = [f(p) for p in pos]\n",
    "plt.plot(pos,evals)\n",
    "plt.show()"
   ]
  },
  {
   "cell_type": "code",
   "execution_count": 33,
   "metadata": {},
   "outputs": [],
   "source": [
    "def comb_sched(sched_funcs,sched_threshs):\n",
    "    \"\"\"\n",
    "    Functions takes a list of schedulers and the threshold till which each should be enabled\n",
    "    \"\"\"\n",
    "    #checking that max threshold be less than 1\n",
    "    assert np.max(sched_threshs)<=1.\n",
    "    #checking if the length of functions should match the length of thresholds\n",
    "    assert len(sched_funcs)==len(sched_threshs)\n",
    "    # add 0 as first threshold\n",
    "    sched_threshs=np.array([0]+list(sched_threshs))\n",
    "    def _inner(pos):\n",
    "        #check the position of threshold\n",
    "        idx = (pos > sched_threshs).nonzero()\n",
    "        if len(idx[0])!=0:\n",
    "            idx=idx[0][-1]\n",
    "        else:\n",
    "            idx=0\n",
    "            \n",
    "        new_pos = (pos-sched_threshs[idx])/(sched_threshs[idx+1]-sched_threshs[idx])\n",
    "        return sched_funcs[idx](new_pos)\n",
    "    return _inner\n",
    "        \n",
    "        "
   ]
  },
  {
   "cell_type": "code",
   "execution_count": 49,
   "metadata": {},
   "outputs": [],
   "source": [
    "sched_funcs = [sched_cos(0.3,0.8),sched_lin(0.8,0.3),sched_lin(0.3,0.1)]\n",
    "sched_threshs=[0.4,0.8,1.]\n",
    "cs =comb_sched(sched_funcs,sched_threshs)"
   ]
  },
  {
   "cell_type": "code",
   "execution_count": 50,
   "metadata": {},
   "outputs": [
    {
     "data": {
      "text/plain": [
       "0.30000000000000004"
      ]
     },
     "execution_count": 50,
     "metadata": {},
     "output_type": "execute_result"
    }
   ],
   "source": [
    "cs(0)"
   ]
  },
  {
   "cell_type": "code",
   "execution_count": 51,
   "metadata": {},
   "outputs": [
    {
     "data": {
      "image/png": "[encoded data removed]",
      "text/plain": [
       "<Figure size 432x288 with 1 Axes>"
      ]
     },
     "metadata": {
      "needs_background": "light"
     },
     "output_type": "display_data"
    }
   ],
   "source": [
    "f=cs\n",
    "pos = np.linspace(0.0,1,100)\n",
    "evals = [f(p) for p in pos]\n",
    "plt.plot(pos,evals)\n",
    "plt.show()"
   ]
  },
  {
   "cell_type": "code",
   "execution_count": 59,
   "metadata": {},
   "outputs": [],
   "source": [
    "def listify(x):\n",
    "    \"\"\"\n",
    "    Function to convert anything to list\n",
    "    \"\"\"\n",
    "    if x is None: x= []\n",
    "    elif isinstance(x,str): x=[x]\n",
    "    elif hasattr(x,'__iter__'): x=list(x)\n",
    "    else: x=[x]\n",
    "    return x\n",
    "#class to handle all the callbacks\n",
    "class CallbackHandler:\n",
    "    def _init__(self,cbs):\n",
    "        self.cbs=listify(cbs)\n",
    "    def __call__(self,name,trainer):\n",
    "        for c in sorted(self.cbs,key=lambda x: x._order):\n",
    "            k = getattr(c,name)\n",
    "            if k:\n",
    "                k(trainer)\n",
    "#Learning rate finder\n",
    "class LRFinder:\n",
    "    _order=1\n",
    "    def __init__(self,min_lr=1e-6,max_lr=10,min_loss=1e10,max_iters=200):\n",
    "        self.lr_min,self.lr_max,self.min_loss=min_lr,max_lr,min_loss\n",
    "        self.lrs=[]\n",
    "        self.losses=[]\n",
    "        self.max_iters = max_iters\n",
    "        self.iters=0\n",
    "    def begin_fit(self,trainer):\n",
    "        trainer.iters=0\n",
    "    def begin_batch(self,trainer):\n",
    "        pos = trainer.iters/self.max_iters\n",
    "        trainer.lr = self.lr_min*(self.lr_max/self.lr_min)**pos\n",
    "    def after_loss(self,trainer):\n",
    "        self.losses.append(trainer.loss)\n",
    "        if trainer.loss > self.min_loss*10:\n",
    "            trainer.stop=True\n",
    "        if self.min_loss > trainer.loss:\n",
    "            self.min_loss=trainer.loss\n",
    "        self.iters+=1\n",
    "class Recorder:\n",
    "    def __init__(self,smoothing=0.1):\n",
    "        self.smoothing=smoothing\n",
    "    def begin_fit(self,trainer):\n",
    "        self.lrs=[]\n",
    "        self.losses=[]\n",
    "    def after_batch(self,trainer):\n",
    "        self.lrs.append(trainer.lr)\n",
    "        self.losses.append(trainer.loss)\n",
    "    def plot(self,skip_last=-1):\n",
    "        slosses=[]\n",
    "        for i,l in enumerate(self.losses):\n",
    "            if i==0:\n",
    "                slosses.append(l)\n",
    "            else:\n",
    "                temp = slosses[i-1]+self.smoothing*(l-slosses[i-1])\n",
    "                slosses.append(temp)\n",
    "                \n",
    "            \n",
    "        \n",
    "        \n",
    "\n",
    "class ParamScheduler:\n",
    "    _order=1\n",
    "    def __init__(self,opt,pname,funcs):\n",
    "        funcs = listify(funcs)\n",
    "        if len(funcs)!=len(opt.param_groups):\n",
    "            funcs = funcs*len(opt.param_groups)\n",
    "        self.pname,self.funcs=pname,funcs\n",
    "    def begin_batch(self,trainer):\n",
    "        pos = trainer.iters/trainer.tot_iters\n",
    "        for pg in enumerate(trainer.opt.param_groups):\n",
    "            pg[self.pname]=self.funcs[i](pos)\n",
    "\n",
    "            \n",
    "def accuracy(preds,y):\n",
    "    preds=torch.argmax(preds,dim=-1)\n",
    "    return (preds==y).float().mean().cpu().item()\n",
    "            \n",
    "class StatsCalc:\n",
    "    def __init__(self,metrics=[accuracy]):\n",
    "        self.metrics=metrics\n",
    "        \n",
    "    def reset(self):\n",
    "        self.tot_loss=0\n",
    "        self.metstats=[0]*len(self.metrics)\n",
    "        self.count=0\n",
    "    \n",
    "    def update(self,trainer):\n",
    "        bs = trainer.xb.shape[0]\n",
    "        self.count+=bs\n",
    "        self.tot_loss+=bs*trainer.loss\n",
    "        for i,m in enumerate(self.metrics):\n",
    "            self.metstats[i]+=bs*m(self.preds,self.yb)\n",
    "    \n",
    "    def __repr__(self):\n",
    "        print(self.tot_loss/self.count)\n",
    "        for m in self.metstats:\n",
    "            print(m/self.count)\n",
    "\n",
    "class StatsRecorder:\n",
    "    \n",
    "    def __init__(self,trainstats,validstats):\n",
    "        self.trainstats,self.validstats=trainstats,validstats\n",
    "        \n",
    "    def begin_epoch(self,trainer):\n",
    "        self.trainstats.reset()\n",
    "        self.validstats.reset()\n",
    "        \n",
    "    def after_batch(self,trainer):\n",
    "        if trainer.training:\n",
    "            self.trainstats.update(trainer)\n",
    "        else:\n",
    "            self.validstats.update(trainer)\n",
    "            \n",
    "    def after_epoch(self,trainer):\n",
    "        print(f\"Training stats:{self.trainstats}\\n\")\n",
    "        print(f\"Validation stats:{self.validstats}\\n\")"
   ]
  },
  {
   "cell_type": "code",
   "execution_count": 60,
   "metadata": {},
   "outputs": [],
   "source": [
    "class DataBunch:\n",
    "    def __init__(self,train_dl,valid_dl):\n",
    "        self.train_dl,self.valid_dl  = train_dl,valid_dl\n",
    "    "
   ]
  },
  {
   "cell_type": "code",
   "execution_count": 61,
   "metadata": {},
   "outputs": [],
   "source": [
    "class Trainer:\n",
    "    def __init__(self,model,db,loss_func,opt):\n",
    "        self.model,self.db,self.loss_func,self.opt=model,db,loss_func,opt\n",
    "        \n",
    "    def one_batch(self,xb,yb):\n",
    "        self.xb,self,yb=xb,yb\n",
    "        self(\"begin_batch\")\n",
    "        self.preds = self.model(self.xb)\n",
    "        self(\"after_loss\")\n",
    "        self.loss = self.loss_func(self.preds,self.yb)\n",
    "        self(\"after_loss\")\n",
    "        self.loss.backward()\n",
    "        self(\"after_backward\")\n",
    "        self.opt.step()\n",
    "        self.opt.zero_grad()\n",
    "        self(\"after_batch\")\n",
    "        \n",
    "    def all_batches(self,mode='training'):\n",
    "        if mode=='training':\n",
    "            self.model.train()\n",
    "            dl=self.db.train_dl\n",
    "        else:\n",
    "            self.model.eval()\n",
    "            dl=self.db.valid_dl\n",
    "        for xb,yb in dl:\n",
    "            self.one_batch(xb,yb)\n",
    "        \n",
    "    def fit(self,nepochs,cbh=None):\n",
    "        self.nepochs=nepochs\n",
    "        self.cbh=cbh\n",
    "        self(\"begin_fit\")\n",
    "        for epoch in range(epochs):\n",
    "            self.training=True\n",
    "            self.epoch=epoch\n",
    "            self(\"begin_epoch\")\n",
    "            self.all_batches(mode='training')\n",
    "            self(\"begin_validation\")\n",
    "            with torch.no_grad():\n",
    "                self.validation=True\n",
    "                self.all_batches(mode='validation')\n",
    "            self(\"after_epoch\")      \n",
    "    def __call__(self,name):\n",
    "        if self.cbh:\n",
    "            self.cbh(name,self)\n",
    "            "
   ]
  },
  {
   "cell_type": "code",
   "execution_count": 62,
   "metadata": {},
   "outputs": [],
   "source": [
    "db = DataBunch(train_dl=trn_dl,valid_dl=val_dl)"
   ]
  },
  {
   "cell_type": "code",
   "execution_count": 63,
   "metadata": {},
   "outputs": [
    {
     "data": {
      "text/plain": [
       "torch.Size([256])"
      ]
     },
     "execution_count": 63,
     "metadata": {},
     "output_type": "execute_result"
    }
   ],
   "source": [
    "next(iter(db.valid_dl))[1].shape"
   ]
  },
  {
   "cell_type": "code",
   "execution_count": null,
   "metadata": {},
   "outputs": [],
   "source": [
    "cbs = [LRFinder(),]"
   ]
  }
 ],
 "metadata": {
  "kernelspec": {
   "display_name": "Python 3",
   "language": "python",
   "name": "python3"
  },
  "language_info": {
   "codemirror_mode": {
    "name": "ipython",
    "version": 3
   },
   "file_extension": ".py",
   "mimetype": "text/x-python",
   "name": "python",
   "nbconvert_exporter": "python",
   "pygments_lexer": "ipython3",
   "version": "3.7.4"
  }
 },
 "nbformat": 4,
 "nbformat_minor": 4
}
